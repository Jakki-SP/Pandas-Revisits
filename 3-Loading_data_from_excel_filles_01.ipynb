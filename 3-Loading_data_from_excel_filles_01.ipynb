{
 "cells": [
  {
   "cell_type": "code",
   "execution_count": 1,
   "metadata": {},
   "outputs": [],
   "source": [
    "#3-Loading_data_from_excel_filles_01"
   ]
  },
  {
   "cell_type": "code",
   "execution_count": 3,
   "metadata": {},
   "outputs": [],
   "source": [
    "import os\n",
    "#os.getcwd()\n",
    "os.chdir(\"C:\\\\Users\\\\Guestuser\\\\Downloads\")"
   ]
  },
  {
   "cell_type": "code",
   "execution_count": 8,
   "metadata": {},
   "outputs": [
    {
     "name": "stdout",
     "output_type": "stream",
     "text": [
      "     fname     lname  gender  age  exercise  hours  grade  \\\n",
      "0   Marcia      Pugh  female   17         3     10   82.4   \n",
      "1   Kadeem  Morrison    male   18         4      4   78.2   \n",
      "2     Nash    Powell    male   18         5      9   79.3   \n",
      "3  Noelani    Wagner  female   14         2      7   83.2   \n",
      "4  Noelani    Cherry  female   18         4     15   87.4   \n",
      "\n",
      "                                      address  \n",
      "0        7379 Highland Rd. , Dublin, GA 31021  \n",
      "1          8 Bayport St. , Honolulu, HI 96815  \n",
      "2           Encino, CA 91316, 3 Lilac Street   \n",
      "3  Riverview, FL 33569, 9998 North Smith Dr.   \n",
      "4   97 SE. Ocean Street , Bethlehem, PA 18015  \n"
     ]
    }
   ],
   "source": [
    "import pandas as pd\n",
    "filelocation = r\"C:\\Users\\Guestuser\\Downloads\\datasets\\datasets\\gradedata.xlsx\"\n",
    "df=pd.read_excel(filelocation)\n",
    "print(df.head())"
   ]
  },
  {
   "cell_type": "code",
   "execution_count": 9,
   "metadata": {},
   "outputs": [
    {
     "name": "stdout",
     "output_type": "stream",
     "text": [
      "     first      last     sex  age  excer  hrs   grd  \\\n",
      "0   Marcia      Pugh  female   17      3   10  82.4   \n",
      "1   Kadeem  Morrison    male   18      4    4  78.2   \n",
      "2     Nash    Powell    male   18      5    9  79.3   \n",
      "3  Noelani    Wagner  female   14      2    7  83.2   \n",
      "4  Noelani    Cherry  female   18      4   15  87.4   \n",
      "\n",
      "                                         addr  \n",
      "0        7379 Highland Rd. , Dublin, GA 31021  \n",
      "1          8 Bayport St. , Honolulu, HI 96815  \n",
      "2           Encino, CA 91316, 3 Lilac Street   \n",
      "3  Riverview, FL 33569, 9998 North Smith Dr.   \n",
      "4   97 SE. Ocean Street , Bethlehem, PA 18015  \n"
     ]
    }
   ],
   "source": [
    "# renaming the columns\n",
    "df.columns = ['first','last','sex','age','excer','hrs','grd','addr']\n",
    "print(df.head())"
   ]
  }
 ],
 "metadata": {
  "kernelspec": {
   "display_name": "Python 3",
   "language": "python",
   "name": "python3"
  },
  "language_info": {
   "codemirror_mode": {
    "name": "ipython",
    "version": 3
   },
   "file_extension": ".py",
   "mimetype": "text/x-python",
   "name": "python",
   "nbconvert_exporter": "python",
   "pygments_lexer": "ipython3",
   "version": "3.6.5"
  }
 },
 "nbformat": 4,
 "nbformat_minor": 2
}
