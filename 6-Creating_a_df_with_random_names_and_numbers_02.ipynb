{
 "cells": [
  {
   "cell_type": "code",
   "execution_count": 1,
   "metadata": {},
   "outputs": [],
   "source": [
    "# 6-Creating_a_df_with_random_names_and_numbers_02\n",
    "# Create a dataframe called parkingtickets with 250 rows containing a name \n",
    "# and a number between 1 and 25"
   ]
  },
  {
   "cell_type": "code",
   "execution_count": 2,
   "metadata": {},
   "outputs": [],
   "source": [
    "import pandas as pd\n",
    "from numpy import random\n",
    "from numpy.random import randint"
   ]
  },
  {
   "cell_type": "code",
   "execution_count": 4,
   "metadata": {},
   "outputs": [
    {
     "name": "stdout",
     "output_type": "stream",
     "text": [
      "       Tickets  Numbers\n",
      "0          bus       22\n",
      "1        truck       12\n",
      "2        truck       16\n",
      "3          bus       20\n",
      "4      bicycle       22\n",
      "5      bicycle       15\n",
      "6        truck        6\n",
      "7      bicycle       11\n",
      "8          bus        3\n",
      "9    4 wheeler       16\n",
      "10   4 wheeler        5\n",
      "11   4 wheeler       10\n",
      "12         bus       17\n",
      "13     bicycle        8\n",
      "14         bus        6\n",
      "15     bicycle       21\n",
      "16     bicycle       17\n",
      "17         bus       10\n",
      "18   4 wheeler        9\n",
      "19       truck       10\n",
      "20         bus        6\n",
      "21         bus       22\n",
      "22   4 wheeler       19\n",
      "23     bicycle       12\n",
      "24         bus        7\n",
      "25   4 wheeler        2\n",
      "26   4 wheeler       20\n",
      "27   4 wheeler       19\n",
      "28         bus       11\n",
      "29       truck        6\n",
      "..         ...      ...\n",
      "220      truck        3\n",
      "221        bus        9\n",
      "222      truck       15\n",
      "223      truck       13\n",
      "224  4 wheeler       14\n",
      "225      truck       16\n",
      "226    bicycle       14\n",
      "227    bicycle       18\n",
      "228      truck        9\n",
      "229  4 wheeler       20\n",
      "230        bus        4\n",
      "231  4 wheeler       17\n",
      "232      truck       16\n",
      "233  4 wheeler       24\n",
      "234    bicycle       14\n",
      "235      truck       12\n",
      "236        bus        7\n",
      "237        bus       18\n",
      "238  4 wheeler       18\n",
      "239        bus        1\n",
      "240      truck        9\n",
      "241    bicycle       22\n",
      "242        bus       21\n",
      "243      truck       24\n",
      "244      truck       12\n",
      "245        bus        1\n",
      "246  4 wheeler       14\n",
      "247        bus       14\n",
      "248        bus        3\n",
      "249        bus       20\n",
      "\n",
      "[250 rows x 2 columns]\n"
     ]
    }
   ],
   "source": [
    "vehicle = ['2 wheeler', '4 wheeler', 'bus', 'truck', 'bicycle']\n",
    "tickets = []\n",
    "\n",
    "for i in range(250):\n",
    "    name = vehicle[randint(low=1, high=len(vehicle))]\n",
    "    tickets.append(name)\n",
    "\n",
    "numbers = []\n",
    "for i in range(250):\n",
    "    numbers.append(randint(low=1,high=25))\n",
    "\n",
    "parkingtickets = list(zip(tickets, numbers))\n",
    "df = pd.DataFrame(data=parkingtickets, columns=['Tickets', 'Numbers'])\n",
    "print(df)\n",
    "                           "
   ]
  },
  {
   "cell_type": "code",
   "execution_count": null,
   "metadata": {},
   "outputs": [],
   "source": []
  }
 ],
 "metadata": {
  "kernelspec": {
   "display_name": "Python 3",
   "language": "python",
   "name": "python3"
  },
  "language_info": {
   "codemirror_mode": {
    "name": "ipython",
    "version": 3
   },
   "file_extension": ".py",
   "mimetype": "text/x-python",
   "name": "python",
   "nbconvert_exporter": "python",
   "pygments_lexer": "ipython3",
   "version": "3.6.5"
  }
 },
 "nbformat": 4,
 "nbformat_minor": 2
}
