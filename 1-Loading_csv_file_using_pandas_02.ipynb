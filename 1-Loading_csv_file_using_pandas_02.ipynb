{
 "cells": [
  {
   "cell_type": "code",
   "execution_count": 3,
   "metadata": {},
   "outputs": [],
   "source": [
    "# Importing data "
   ]
  },
  {
   "cell_type": "code",
   "execution_count": 5,
   "metadata": {},
   "outputs": [],
   "source": [
    "import os\n",
    "os.getcwd()\n",
    "os.chdir(\"C:\\\\Users\\\\Guestuser\\\\Downloads\\\\datasets\\\\datasets\")"
   ]
  },
  {
   "cell_type": "code",
   "execution_count": 7,
   "metadata": {},
   "outputs": [
    {
     "name": "stdout",
     "output_type": "stream",
     "text": [
      "   GEOID  SUMLEV  STATE  COUNTY  CBSA  CSA  NECTA  CNECTA      NAME    POP100  \\\n",
      "0     36      40     36     NaN   NaN  NaN    NaN     NaN  New York  19378102   \n",
      "\n",
      "     HU100  POP100.2000  HU100.2000   P001001  P001001.2000  \n",
      "0  8108103     18976457     7679307  19378102      18976457  \n"
     ]
    }
   ],
   "source": [
    "import pandas as pd\n",
    "filename = \"C:\\\\Users\\\\Guestuser\\\\Downloads\\\\datasets\\\\datasets\\\\all_040_in_36.P1.csv\"\n",
    "df = pd.read_csv(filename)\n",
    "print(df.head())"
   ]
  }
 ],
 "metadata": {
  "kernelspec": {
   "display_name": "Python 3",
   "language": "python",
   "name": "python3"
  },
  "language_info": {
   "codemirror_mode": {
    "name": "ipython",
    "version": 3
   },
   "file_extension": ".py",
   "mimetype": "text/x-python",
   "name": "python",
   "nbconvert_exporter": "python",
   "pygments_lexer": "ipython3",
   "version": "3.6.5"
  }
 },
 "nbformat": 4,
 "nbformat_minor": 2
}
