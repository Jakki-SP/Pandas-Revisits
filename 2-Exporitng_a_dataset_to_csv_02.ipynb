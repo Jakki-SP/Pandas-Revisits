{
 "cells": [
  {
   "cell_type": "code",
   "execution_count": 1,
   "metadata": {},
   "outputs": [],
   "source": [
    "# 2-Exporitng_a_dataset_to_csv_02"
   ]
  },
  {
   "cell_type": "code",
   "execution_count": 3,
   "metadata": {},
   "outputs": [],
   "source": [
    "import os\n",
    "os.getcwd()\n",
    "os.chdir(\"C:\\\\Users\\\\Guestuser\\\\Downloads\")"
   ]
  },
  {
   "cell_type": "code",
   "execution_count": 9,
   "metadata": {},
   "outputs": [],
   "source": [
    "import pandas as pd\n",
    "names = ['Bob','Jessiaca','Mary','John','Mel']\n",
    "grades=[76,95,77,78,99]\n",
    "bsdegrees=[1,1,0,0,1]\n",
    "msdegrees=[2,1,0,0,0]\n",
    "phddegrees=[0,1,0,0,0]"
   ]
  },
  {
   "cell_type": "code",
   "execution_count": 23,
   "metadata": {},
   "outputs": [
    {
     "name": "stdout",
     "output_type": "stream",
     "text": [
      "      Names  Grades  BS  MS  PhD\n",
      "0       Bob      76   1   2    0\n",
      "1  Jessiaca      95   1   1    1\n",
      "2      Mary      77   0   0    0\n",
      "3      John      78   0   0    0\n",
      "4       Mel      99   1   0    0\n"
     ]
    }
   ],
   "source": [
    "degrees = list(zip(names,grades,bsdegrees,msdegrees,phddegrees))\n",
    "df = pd.DataFrame(data=degrees,columns=['Names','Grades','BS','MS','PhD'])\n",
    "print(df)"
   ]
  },
  {
   "cell_type": "code",
   "execution_count": 24,
   "metadata": {},
   "outputs": [],
   "source": [
    "#degrees = {'Names':names,'Grades':grades,'BS':bsdegrees,'MS':msdegrees,'PhD':phddegrees}\n",
    "#df = pd.DataFrame(data=degrees)\n",
    "#print(df)"
   ]
  },
  {
   "cell_type": "code",
   "execution_count": 25,
   "metadata": {},
   "outputs": [],
   "source": [
    "df.to_csv(\"Degrees.csv\")"
   ]
  },
  {
   "cell_type": "code",
   "execution_count": null,
   "metadata": {},
   "outputs": [],
   "source": []
  }
 ],
 "metadata": {
  "kernelspec": {
   "display_name": "Python 3",
   "language": "python",
   "name": "python3"
  },
  "language_info": {
   "codemirror_mode": {
    "name": "ipython",
    "version": 3
   },
   "file_extension": ".py",
   "mimetype": "text/x-python",
   "name": "python",
   "nbconvert_exporter": "python",
   "pygments_lexer": "ipython3",
   "version": "3.6.5"
  }
 },
 "nbformat": 4,
 "nbformat_minor": 2
}
