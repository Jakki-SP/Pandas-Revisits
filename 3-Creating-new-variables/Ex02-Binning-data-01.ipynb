{
 "cells": [
  {
   "cell_type": "code",
   "execution_count": 1,
   "metadata": {},
   "outputs": [],
   "source": [
    "# Ex02-Binning-data-01"
   ]
  },
  {
   "cell_type": "code",
   "execution_count": 2,
   "metadata": {},
   "outputs": [],
   "source": [
    "# Binning Data\n",
    "# Sometimes , we will have discrete data that needs to be grouped into bins\n",
    "#  Ex : converting numeric grades to letter grades"
   ]
  },
  {
   "cell_type": "code",
   "execution_count": 4,
   "metadata": {},
   "outputs": [
    {
     "name": "stdout",
     "output_type": "stream",
     "text": [
      "     fname     lname  gender  age  exercise  hours  grade  \\\n",
      "0   Marcia      Pugh  female   17         3     10   82.4   \n",
      "1   Kadeem  Morrison    male   18         4      4   78.2   \n",
      "2     Nash    Powell    male   18         5      9   79.3   \n",
      "3  Noelani    Wagner  female   14         2      7   83.2   \n",
      "4  Noelani    Cherry  female   18         4     15   87.4   \n",
      "\n",
      "                                    address  \n",
      "0   9253 Richardson Road, Matawan, NJ 07747  \n",
      "1          33 Spring Dr., Taunton, MA 02780  \n",
      "2          41 Hill Avenue, Mentor, OH 44060  \n",
      "3        8839 Marshall St., Miami, FL 33125  \n",
      "4  8304 Charles Rd., Lewis Center, OH 43035  \n"
     ]
    }
   ],
   "source": [
    "import pandas as pd\n",
    "file = r\"C:\\Users\\Guestuser\\Downloads\\datasets\\datasets\\gradedata.csv\"\n",
    "df = pd.read_csv(file)\n",
    "print(df.head())"
   ]
  },
  {
   "cell_type": "code",
   "execution_count": 5,
   "metadata": {},
   "outputs": [
    {
     "name": "stdout",
     "output_type": "stream",
     "text": [
      "     fname     lname  gender  age  exercise  hours  grade  \\\n",
      "0   Marcia      Pugh  female   17         3     10   82.4   \n",
      "1   Kadeem  Morrison    male   18         4      4   78.2   \n",
      "2     Nash    Powell    male   18         5      9   79.3   \n",
      "3  Noelani    Wagner  female   14         2      7   83.2   \n",
      "4  Noelani    Cherry  female   18         4     15   87.4   \n",
      "\n",
      "                                    address lettergrade  \n",
      "0   9253 Richardson Road, Matawan, NJ 07747           B  \n",
      "1          33 Spring Dr., Taunton, MA 02780           C  \n",
      "2          41 Hill Avenue, Mentor, OH 44060           C  \n",
      "3        8839 Marshall St., Miami, FL 33125           B  \n",
      "4  8304 Charles Rd., Lewis Center, OH 43035           B  \n"
     ]
    }
   ],
   "source": [
    "# Now the data is loaded, we need to define the bins and group names\n",
    "# Define bins as 0 to 60, 60 to 70, 70 to 80, 80 to 90, 90 to 100\n",
    "\n",
    "# Create the bin dividers\n",
    "bins = [0,60,70,80,90,100]\n",
    "\n",
    "# Create names for the four groups\n",
    "group_names = ['F','D','C','B','A']\n",
    "\n",
    "# Notice that there is one more bin value than there are group_names\n",
    "# This is because there needs to be a top and bottom limit for each bin\n",
    "\n",
    "# Cut grades\n",
    "df['lettergrade'] = pd.cut(df['grade'], bins, labels = group_names)\n",
    "print(df.head())\n"
   ]
  },
  {
   "cell_type": "code",
   "execution_count": 8,
   "metadata": {},
   "outputs": [
    {
     "name": "stdout",
     "output_type": "stream",
     "text": [
      "B    737\n",
      "C    580\n",
      "A    475\n",
      "D    193\n",
      "F     15\n",
      "Name: lettergrade, dtype: int64\n"
     ]
    }
   ],
   "source": [
    "# The above code categorizes the colum grade based on the bins and labels the values using\n",
    "# the group_names list\n",
    "\n",
    "# and if we want to count the number of oservations for eah category,\n",
    "# we can do that too.\n",
    "\n",
    "# Count the number of observations\n",
    "print(pd.value_counts(df['lettergrade']))\n"
   ]
  },
  {
   "cell_type": "code",
   "execution_count": null,
   "metadata": {},
   "outputs": [],
   "source": []
  }
 ],
 "metadata": {
  "kernelspec": {
   "display_name": "Python 3",
   "language": "python",
   "name": "python3"
  },
  "language_info": {
   "codemirror_mode": {
    "name": "ipython",
    "version": 3
   },
   "file_extension": ".py",
   "mimetype": "text/x-python",
   "name": "python",
   "nbconvert_exporter": "python",
   "pygments_lexer": "ipython3",
   "version": "3.7.0"
  }
 },
 "nbformat": 4,
 "nbformat_minor": 2
}
