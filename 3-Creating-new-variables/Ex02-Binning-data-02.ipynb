{
 "cells": [
  {
   "cell_type": "code",
   "execution_count": 1,
   "metadata": {},
   "outputs": [],
   "source": [
    "# Ex02-Binning-data-02"
   ]
  },
  {
   "cell_type": "code",
   "execution_count": 1,
   "metadata": {},
   "outputs": [],
   "source": [
    "# We will recreate the dataframe from this section and create a column classifyng the row as pass or fail\n",
    "# This is for a master's program that requires a grade of 8 or above for a student to pass.\n"
   ]
  },
  {
   "cell_type": "code",
   "execution_count": 2,
   "metadata": {},
   "outputs": [
    {
     "name": "stdout",
     "output_type": "stream",
     "text": [
      "     fname     lname  gender  age  exercise  hours  grade  \\\n",
      "0   Marcia      Pugh  female   17         3     10   82.4   \n",
      "1   Kadeem  Morrison    male   18         4      4   78.2   \n",
      "2     Nash    Powell    male   18         5      9   79.3   \n",
      "3  Noelani    Wagner  female   14         2      7   83.2   \n",
      "4  Noelani    Cherry  female   18         4     15   87.4   \n",
      "\n",
      "                                    address  \n",
      "0   9253 Richardson Road, Matawan, NJ 07747  \n",
      "1          33 Spring Dr., Taunton, MA 02780  \n",
      "2          41 Hill Avenue, Mentor, OH 44060  \n",
      "3        8839 Marshall St., Miami, FL 33125  \n",
      "4  8304 Charles Rd., Lewis Center, OH 43035  \n"
     ]
    }
   ],
   "source": [
    "import pandas as pd\n",
    "file = r\"C:\\Users\\Guestuser\\Downloads\\datasets\\datasets\\gradedata.csv\"\n",
    "df = pd.read_csv(file)\n",
    "print(df.head())"
   ]
  },
  {
   "cell_type": "code",
   "execution_count": 4,
   "metadata": {},
   "outputs": [
    {
     "name": "stdout",
     "output_type": "stream",
     "text": [
      "     fname     lname  gender  age  exercise  hours  grade  \\\n",
      "0   Marcia      Pugh  female   17         3     10   82.4   \n",
      "1   Kadeem  Morrison    male   18         4      4   78.2   \n",
      "2     Nash    Powell    male   18         5      9   79.3   \n",
      "3  Noelani    Wagner  female   14         2      7   83.2   \n",
      "4  Noelani    Cherry  female   18         4     15   87.4   \n",
      "\n",
      "                                    address lettergrade pass_fail  \n",
      "0   9253 Richardson Road, Matawan, NJ 07747        Pass      Pass  \n",
      "1          33 Spring Dr., Taunton, MA 02780        Fail      Fail  \n",
      "2          41 Hill Avenue, Mentor, OH 44060        Fail      Fail  \n",
      "3        8839 Marshall St., Miami, FL 33125        Pass      Pass  \n",
      "4  8304 Charles Rd., Lewis Center, OH 43035        Pass      Pass  \n"
     ]
    }
   ],
   "source": [
    "# Create the bin dividers\n",
    "bins = [0,80,100]\n",
    "\n",
    "# Create names for the groups\n",
    "group_names = ['Fail','Pass']\n",
    "\n",
    "# Cut grades\n",
    "df['pass_fail'] = pd.cut(df['grade'], bins, labels = group_names)\n",
    "print(df.head())\n"
   ]
  },
  {
   "cell_type": "code",
   "execution_count": 5,
   "metadata": {},
   "outputs": [
    {
     "name": "stdout",
     "output_type": "stream",
     "text": [
      "Pass    1212\n",
      "Fail     788\n",
      "Name: pass_fail, dtype: int64\n"
     ]
    }
   ],
   "source": [
    "# Count the number of observations\n",
    "print(pd.value_counts(df['pass_fail']))\n"
   ]
  },
  {
   "cell_type": "code",
   "execution_count": null,
   "metadata": {},
   "outputs": [],
   "source": []
  }
 ],
 "metadata": {
  "kernelspec": {
   "display_name": "Python 3",
   "language": "python",
   "name": "python3"
  },
  "language_info": {
   "codemirror_mode": {
    "name": "ipython",
    "version": 3
   },
   "file_extension": ".py",
   "mimetype": "text/x-python",
   "name": "python",
   "nbconvert_exporter": "python",
   "pygments_lexer": "ipython3",
   "version": "3.7.0"
  }
 },
 "nbformat": 4,
 "nbformat_minor": 2
}
