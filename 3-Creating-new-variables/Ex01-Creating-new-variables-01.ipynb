{
 "cells": [
  {
   "cell_type": "code",
   "execution_count": 2,
   "metadata": {},
   "outputs": [],
   "source": [
    "# Ex01-Creating-new-variables-01"
   ]
  },
  {
   "cell_type": "code",
   "execution_count": null,
   "metadata": {},
   "outputs": [],
   "source": [
    "# Creating new variables\n",
    "\n",
    "# Once the data is free of errors, we need to set the variables that will directlyasnw= answer our questions\n",
    "# It's rare that, a data in which every question we need to answer is directly addressed by a variable\n",
    "# So we need to do a lot of recoding and computig of variables to get exactly the dataset we need\n",
    "\n",
    "# Examples include the following\n",
    "\n",
    "# 1. creating bins ( like converting numeric graes to leter grades or ranges of dates into Q1, Q2, etc.)\n",
    "# 2. Creating a column that ranks the values in another column\n",
    "# 3. Creating a column to indicate tha another value hasreached a threshold ( passing or failinng, Dean's list, etc.)\n",
    "# 4. Creating string categories to numbers ( for regression or correlation)"
   ]
  }
 ],
 "metadata": {
  "kernelspec": {
   "display_name": "Python 3",
   "language": "python",
   "name": "python3"
  },
  "language_info": {
   "codemirror_mode": {
    "name": "ipython",
    "version": 3
   },
   "file_extension": ".py",
   "mimetype": "text/x-python",
   "name": "python",
   "nbconvert_exporter": "python",
   "pygments_lexer": "ipython3",
   "version": "3.7.0"
  }
 },
 "nbformat": 4,
 "nbformat_minor": 2
}
