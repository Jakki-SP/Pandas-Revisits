{
 "cells": [
  {
   "cell_type": "code",
   "execution_count": 1,
   "metadata": {},
   "outputs": [],
   "source": [
    "# 003-Groupby-Grouping-DF-with-Index-levels-and-columns-001\n",
    "\n",
    "# A DataFrame may be grouped by a combination of columns and index levels\n",
    "# by specifying the coloumn names as strings and the index levels"
   ]
  },
  {
   "cell_type": "code",
   "execution_count": 1,
   "metadata": {},
   "outputs": [
    {
     "name": "stdout",
     "output_type": "stream",
     "text": [
      "              A  B\n",
      "first second      \n",
      "bar   one     1  0\n",
      "      two     1  1\n",
      "baz   one     1  2\n",
      "      two     1  3\n",
      "foo   one     2  4\n",
      "      two     2  5\n",
      "qux   one     3  6\n",
      "      two     3  7\n"
     ]
    }
   ],
   "source": [
    "# Create a series with a two-level multi index\n",
    "import pandas as pd\n",
    "import numpy as np\n",
    "\n",
    "arrays = [['bar', 'bar', 'baz', 'baz', 'foo', 'foo', 'qux', 'qux'], \n",
    "          ['one', 'two', 'one', 'two', 'one', 'two', 'one', 'two']]\n",
    "index = pd.MultiIndex.from_arrays(arrays, names=['first','second'])\n",
    "df = pd.DataFrame({'A':[1,1,1,1,2,2,3,3],'B':np.arange(8)}, index=index)\n",
    "print(df)"
   ]
  },
  {
   "cell_type": "code",
   "execution_count": 3,
   "metadata": {},
   "outputs": [
    {
     "name": "stdout",
     "output_type": "stream",
     "text": [
      "          B\n",
      "second A   \n",
      "one    1  2\n",
      "       2  4\n",
      "       3  6\n",
      "two    1  4\n",
      "       2  5\n",
      "       3  7\n"
     ]
    }
   ],
   "source": [
    "# The following example groups df by the second index level and the A column.\n",
    "print(df.groupby([pd.Grouper(level=1),'A']).sum())"
   ]
  },
  {
   "cell_type": "code",
   "execution_count": 6,
   "metadata": {},
   "outputs": [
    {
     "name": "stdout",
     "output_type": "stream",
     "text": [
      "second\n",
      "one   -1.485990\n",
      "two    3.236825\n",
      "dtype: float64\n"
     ]
    }
   ],
   "source": [
    "# if the MultiIndex has names specified, these can be passed instead of the level number:\n",
    "print(s.groupby(level = 'second').sum())"
   ]
  },
  {
   "cell_type": "code",
   "execution_count": 7,
   "metadata": {},
   "outputs": [
    {
     "name": "stdout",
     "output_type": "stream",
     "text": [
      "second\n",
      "one   -1.485990\n",
      "two    3.236825\n",
      "dtype: float64\n"
     ]
    }
   ],
   "source": [
    "# The aggregation functions such as sum will take the level parameter directly.\n",
    "# Additionally, the resulting index will be named according to the chosen level:\n",
    "print(s.sum(level='second'))"
   ]
  },
  {
   "cell_type": "code",
   "execution_count": 8,
   "metadata": {},
   "outputs": [
    {
     "name": "stdout",
     "output_type": "stream",
     "text": [
      "first  second\n",
      "bar    one      -0.825880\n",
      "       two       0.963470\n",
      "baz    one       0.234465\n",
      "       two      -0.260631\n",
      "foo    one      -0.581900\n",
      "       two      -0.017743\n",
      "qux    one      -0.312676\n",
      "       two       2.551730\n",
      "dtype: float64\n"
     ]
    }
   ],
   "source": [
    "# Grouping with multiple levels is supported\n",
    "print(s.groupby(level=['first','second']).sum())"
   ]
  },
  {
   "cell_type": "code",
   "execution_count": 10,
   "metadata": {},
   "outputs": [
    {
     "name": "stdout",
     "output_type": "stream",
     "text": [
      "first  second\n",
      "bar    one      -0.825880\n",
      "       two       0.963470\n",
      "baz    one       0.234465\n",
      "       two      -0.260631\n",
      "foo    one      -0.581900\n",
      "       two      -0.017743\n",
      "qux    one      -0.312676\n",
      "       two       2.551730\n",
      "dtype: float64\n"
     ]
    }
   ],
   "source": [
    "# index level names can also be supplied as keys\n",
    "print(s.groupby(['first','second']).sum())"
   ]
  },
  {
   "cell_type": "code",
   "execution_count": 5,
   "metadata": {},
   "outputs": [
    {
     "name": "stdout",
     "output_type": "stream",
     "text": [
      "          B\n",
      "second A   \n",
      "one    1  2\n",
      "       2  4\n",
      "       3  6\n",
      "two    1  4\n",
      "       2  5\n",
      "       3  7\n"
     ]
    }
   ],
   "source": [
    "# Index levels may also be specified by name\n",
    "print(df.groupby([pd.Grouper(level='second'),'A']).sum())"
   ]
  },
  {
   "cell_type": "code",
   "execution_count": 6,
   "metadata": {},
   "outputs": [
    {
     "name": "stdout",
     "output_type": "stream",
     "text": [
      "          B\n",
      "second A   \n",
      "one    1  2\n",
      "       2  4\n",
      "       3  6\n",
      "two    1  4\n",
      "       2  5\n",
      "       3  7\n"
     ]
    }
   ],
   "source": [
    "# Index level names may be specified as keys directly to groupby\n",
    "print(df.groupby(['second','A']).sum())"
   ]
  },
  {
   "cell_type": "code",
   "execution_count": null,
   "metadata": {},
   "outputs": [],
   "source": []
  }
 ],
 "metadata": {
  "kernelspec": {
   "display_name": "Python 3",
   "language": "python",
   "name": "python3"
  },
  "language_info": {
   "codemirror_mode": {
    "name": "ipython",
    "version": 3
   },
   "file_extension": ".py",
   "mimetype": "text/x-python",
   "name": "python",
   "nbconvert_exporter": "python",
   "pygments_lexer": "ipython3",
   "version": "3.7.0"
  }
 },
 "nbformat": 4,
 "nbformat_minor": 2
}
