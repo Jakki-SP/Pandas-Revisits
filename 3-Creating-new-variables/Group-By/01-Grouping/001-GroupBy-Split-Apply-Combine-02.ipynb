{
 "cells": [
  {
   "cell_type": "code",
   "execution_count": 4,
   "metadata": {},
   "outputs": [],
   "source": [
    "# 001-GroupBy-Split-Apply-Combine-02"
   ]
  },
  {
   "cell_type": "code",
   "execution_count": 6,
   "metadata": {},
   "outputs": [
    {
     "name": "stdout",
     "output_type": "stream",
     "text": [
      "1     1\n",
      "2     2\n",
      "3     3\n",
      "1    10\n",
      "2    20\n",
      "3    30\n",
      "dtype: int64\n"
     ]
    }
   ],
   "source": [
    "import pandas as pd\n",
    "lst = [1,2,3,1,2,3]\n",
    "s = pd.Series([1,2,3,10,20,30], lst)\n",
    "print(s)"
   ]
  },
  {
   "cell_type": "code",
   "execution_count": 12,
   "metadata": {},
   "outputs": [
    {
     "name": "stdout",
     "output_type": "stream",
     "text": [
      "{1: Int64Index([1, 1], dtype='int64'), 2: Int64Index([2, 2], dtype='int64'), 3: Int64Index([3, 3], dtype='int64')}\n",
      "----------------------------\n",
      "1    1\n",
      "2    2\n",
      "3    3\n",
      "dtype: int64\n",
      "----------------------------\n",
      "1    10\n",
      "2    20\n",
      "3    30\n",
      "dtype: int64\n",
      "----------------------------\n",
      "1    11\n",
      "2    22\n",
      "3    33\n",
      "dtype: int64\n",
      "----------------------------\n",
      "1     5.5\n",
      "2    11.0\n",
      "3    16.5\n",
      "dtype: float64\n",
      "----------------------------\n",
      "1    10\n",
      "2    20\n",
      "3    30\n",
      "dtype: int64\n",
      "----------------------------\n",
      "1    1\n",
      "2    2\n",
      "3    3\n",
      "dtype: int64\n"
     ]
    }
   ],
   "source": [
    "# pandas Index objects suppport duplicates values.\n",
    "# If a non-inique index is used as the group key in a groupby operation, \n",
    "# all values for the same index value will be considered to be in one group and\n",
    "# thus the output of aggregation functions will only contain unique index values:\n",
    "\n",
    "grouped = s.groupby(level=0)\n",
    "\n",
    "print(grouped.groups)\n",
    "\n",
    "print('----------------------------')\n",
    "print(grouped.first())\n",
    "\n",
    "print('----------------------------')\n",
    "print(grouped.last())\n",
    "\n",
    "print('----------------------------')\n",
    "print(grouped.sum())\n",
    "\n",
    "print('----------------------------')\n",
    "print(grouped.mean())\n",
    "\n",
    "print('----------------------------')\n",
    "print(grouped.max())\n",
    "\n",
    "print('----------------------------')\n",
    "print(grouped.min())"
   ]
  },
  {
   "cell_type": "code",
   "execution_count": null,
   "metadata": {},
   "outputs": [],
   "source": []
  },
  {
   "cell_type": "code",
   "execution_count": null,
   "metadata": {},
   "outputs": [],
   "source": []
  },
  {
   "cell_type": "code",
   "execution_count": null,
   "metadata": {},
   "outputs": [],
   "source": []
  }
 ],
 "metadata": {
  "kernelspec": {
   "display_name": "Python 3",
   "language": "python",
   "name": "python3"
  },
  "language_info": {
   "codemirror_mode": {
    "name": "ipython",
    "version": 3
   },
   "file_extension": ".py",
   "mimetype": "text/x-python",
   "name": "python",
   "nbconvert_exporter": "python",
   "pygments_lexer": "ipython3",
   "version": "3.7.0"
  }
 },
 "nbformat": 4,
 "nbformat_minor": 2
}
