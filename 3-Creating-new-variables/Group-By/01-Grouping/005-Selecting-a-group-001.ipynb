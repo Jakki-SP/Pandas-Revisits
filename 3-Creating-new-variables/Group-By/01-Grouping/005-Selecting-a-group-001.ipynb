{
 "cells": [
  {
   "cell_type": "code",
   "execution_count": 2,
   "metadata": {},
   "outputs": [],
   "source": [
    "# 005-Selecting-a-group-001"
   ]
  },
  {
   "cell_type": "code",
   "execution_count": 4,
   "metadata": {},
   "outputs": [
    {
     "name": "stdout",
     "output_type": "stream",
     "text": [
      "     A      B         C         D\n",
      "0  foo    one  1.328026 -0.385646\n",
      "1  bar    one -0.195881 -1.490278\n",
      "2  foo    two -1.353926  0.789706\n",
      "3  bar  three  0.499990 -0.925947\n",
      "4  foo    two -0.893677 -0.766171\n",
      "5  bar    two -0.590911  0.483808\n",
      "6  foo    one  0.472782 -1.098807\n",
      "7  foo  three -0.818568 -1.019307\n"
     ]
    }
   ],
   "source": [
    "import pandas as pd\n",
    "import numpy as np\n",
    "df = pd.DataFrame({'A' : ['foo', 'bar', 'foo', 'bar', 'foo', 'bar', 'foo', 'foo'],\n",
    "                                    'B' : ['one', 'one', 'two', 'three', 'two', 'two', 'one', 'three'],\n",
    "                                    'C' : np.random.randn(8),\n",
    "                                    'D' : np.random.randn(8)}) \n",
    "print(df)\n"
   ]
  },
  {
   "cell_type": "code",
   "execution_count": 5,
   "metadata": {},
   "outputs": [
    {
     "name": "stdout",
     "output_type": "stream",
     "text": [
      "bar\n",
      "     A      B         C         D\n",
      "1  bar    one -0.195881 -1.490278\n",
      "3  bar  three  0.499990 -0.925947\n",
      "5  bar    two -0.590911  0.483808\n",
      "foo\n",
      "     A      B         C         D\n",
      "0  foo    one  1.328026 -0.385646\n",
      "2  foo    two -1.353926  0.789706\n",
      "4  foo    two -0.893677 -0.766171\n",
      "6  foo    one  0.472782 -1.098807\n",
      "7  foo  three -0.818568 -1.019307\n"
     ]
    }
   ],
   "source": [
    "grouped = df.groupby('A')\n",
    "for name, group in grouped:\n",
    "    print(name)\n",
    "    print(group)"
   ]
  },
  {
   "cell_type": "code",
   "execution_count": 6,
   "metadata": {},
   "outputs": [
    {
     "name": "stdout",
     "output_type": "stream",
     "text": [
      "     A      B         C         D\n",
      "1  bar    one -0.195881 -1.490278\n",
      "3  bar  three  0.499990 -0.925947\n",
      "5  bar    two -0.590911  0.483808\n"
     ]
    }
   ],
   "source": [
    "# A single group can be selected using get_group():\n",
    "print(grouped.get_group('bar'))"
   ]
  },
  {
   "cell_type": "code",
   "execution_count": 7,
   "metadata": {},
   "outputs": [
    {
     "name": "stdout",
     "output_type": "stream",
     "text": [
      "     A      B         C         D\n",
      "0  foo    one  1.328026 -0.385646\n",
      "2  foo    two -1.353926  0.789706\n",
      "4  foo    two -0.893677 -0.766171\n",
      "6  foo    one  0.472782 -1.098807\n",
      "7  foo  three -0.818568 -1.019307\n"
     ]
    }
   ],
   "source": [
    "print(grouped.get_group('foo'))"
   ]
  },
  {
   "cell_type": "code",
   "execution_count": 10,
   "metadata": {},
   "outputs": [
    {
     "name": "stdout",
     "output_type": "stream",
     "text": [
      "     A    B         C         D\n",
      "1  bar  one -0.195881 -1.490278\n"
     ]
    }
   ],
   "source": [
    "# for an object grouped on multiple columns:\n",
    "print(df.groupby(['A','B']).get_group(('bar','one')))"
   ]
  },
  {
   "cell_type": "code",
   "execution_count": null,
   "metadata": {},
   "outputs": [],
   "source": []
  }
 ],
 "metadata": {
  "kernelspec": {
   "display_name": "Python 3",
   "language": "python",
   "name": "python3"
  },
  "language_info": {
   "codemirror_mode": {
    "name": "ipython",
    "version": 3
   },
   "file_extension": ".py",
   "mimetype": "text/x-python",
   "name": "python",
   "nbconvert_exporter": "python",
   "pygments_lexer": "ipython3",
   "version": "3.7.0"
  }
 },
 "nbformat": 4,
 "nbformat_minor": 2
}
