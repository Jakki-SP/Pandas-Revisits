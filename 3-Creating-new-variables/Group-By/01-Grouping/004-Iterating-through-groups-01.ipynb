{
 "cells": [
  {
   "cell_type": "code",
   "execution_count": 4,
   "metadata": {},
   "outputs": [],
   "source": [
    "# 004-Iterating-through-groups-01"
   ]
  },
  {
   "cell_type": "code",
   "execution_count": 1,
   "metadata": {},
   "outputs": [
    {
     "name": "stdout",
     "output_type": "stream",
     "text": [
      "     A      B         C         D\n",
      "0  foo    one  0.140563  0.615100\n",
      "1  bar    one  0.067809 -0.359467\n",
      "2  foo    two  0.041681  1.687684\n",
      "3  bar  three  0.691443 -0.517994\n",
      "4  foo    two  0.366730  0.269011\n",
      "5  bar    two  0.307185  0.480247\n",
      "6  foo    one  1.565238  1.106540\n",
      "7  foo  three  0.260946 -0.949180\n"
     ]
    }
   ],
   "source": [
    "import pandas as pd\n",
    "import numpy as np\n",
    "df = pd.DataFrame({'A' : ['foo', 'bar', 'foo', 'bar', 'foo', 'bar', 'foo', 'foo'],\n",
    "                                    'B' : ['one', 'one', 'two', 'three', 'two', 'two', 'one', 'three'],\n",
    "                                    'C' : np.random.randn(8),\n",
    "                                    'D' : np.random.randn(8)}) \n",
    "print(df)\n"
   ]
  },
  {
   "cell_type": "code",
   "execution_count": 7,
   "metadata": {},
   "outputs": [
    {
     "name": "stdout",
     "output_type": "stream",
     "text": [
      "bar\n",
      "     A      B         C         D\n",
      "1  bar    one  0.067809 -0.359467\n",
      "3  bar  three  0.691443 -0.517994\n",
      "5  bar    two  0.307185  0.480247\n",
      "foo\n",
      "     A      B         C         D\n",
      "0  foo    one  0.140563  0.615100\n",
      "2  foo    two  0.041681  1.687684\n",
      "4  foo    two  0.366730  0.269011\n",
      "6  foo    one  1.565238  1.106540\n",
      "7  foo  three  0.260946 -0.949180\n"
     ]
    }
   ],
   "source": [
    "grouped = df.groupby('A')\n",
    "for name, group in grouped:\n",
    "    print(name)\n",
    "    print(group)"
   ]
  },
  {
   "cell_type": "code",
   "execution_count": 8,
   "metadata": {},
   "outputs": [
    {
     "name": "stdout",
     "output_type": "stream",
     "text": [
      "('bar', 'one')\n",
      "     A    B         C         D\n",
      "1  bar  one  0.067809 -0.359467\n",
      "('bar', 'three')\n",
      "     A      B         C         D\n",
      "3  bar  three  0.691443 -0.517994\n",
      "('bar', 'two')\n",
      "     A    B         C         D\n",
      "5  bar  two  0.307185  0.480247\n",
      "('foo', 'one')\n",
      "     A    B         C        D\n",
      "0  foo  one  0.140563  0.61510\n",
      "6  foo  one  1.565238  1.10654\n",
      "('foo', 'three')\n",
      "     A      B         C        D\n",
      "7  foo  three  0.260946 -0.94918\n",
      "('foo', 'two')\n",
      "     A    B         C         D\n",
      "2  foo  two  0.041681  1.687684\n",
      "4  foo  two  0.366730  0.269011\n"
     ]
    }
   ],
   "source": [
    "# inthe case of grouping by multiple keys, the group name will be a tuple:\n",
    "\n",
    "for name, group in df.groupby(['A','B']):\n",
    "    print(name)\n",
    "    print(group)"
   ]
  },
  {
   "cell_type": "code",
   "execution_count": null,
   "metadata": {},
   "outputs": [],
   "source": []
  },
  {
   "cell_type": "code",
   "execution_count": null,
   "metadata": {},
   "outputs": [],
   "source": []
  },
  {
   "cell_type": "code",
   "execution_count": null,
   "metadata": {},
   "outputs": [],
   "source": []
  },
  {
   "cell_type": "code",
   "execution_count": null,
   "metadata": {},
   "outputs": [],
   "source": []
  }
 ],
 "metadata": {
  "kernelspec": {
   "display_name": "Python 3",
   "language": "python",
   "name": "python3"
  },
  "language_info": {
   "codemirror_mode": {
    "name": "ipython",
    "version": 3
   },
   "file_extension": ".py",
   "mimetype": "text/x-python",
   "name": "python",
   "nbconvert_exporter": "python",
   "pygments_lexer": "ipython3",
   "version": "3.7.0"
  }
 },
 "nbformat": 4,
 "nbformat_minor": 2
}
