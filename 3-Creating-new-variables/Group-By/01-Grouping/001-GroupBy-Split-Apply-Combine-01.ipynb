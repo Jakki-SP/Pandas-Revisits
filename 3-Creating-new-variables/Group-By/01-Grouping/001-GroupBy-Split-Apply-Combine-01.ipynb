{
 "cells": [
  {
   "cell_type": "code",
   "execution_count": 2,
   "metadata": {},
   "outputs": [],
   "source": [
    "# 001-GroupBy-Split-Apply-Combine-01"
   ]
  },
  {
   "cell_type": "code",
   "execution_count": 4,
   "metadata": {},
   "outputs": [
    {
     "data": {
      "text/plain": [
       "\"\\nBy 'group by' we are referring to a process involving one or more of the following steps:\\n* Splitting the data into groups based on some criteria\\n* Applying a function to each group independently\\n* Combining the results into a data structure\\n\\nOut of these, the split is the most straight forward.\\nIn fact, in many situations we may wish to split the data into groups and do something with those groups.\\n\\nIn the apply step, we might wish to one of the following:\\n\\n* Aggregation : Compute a summary statstic ( or statisitics ) for each group. \\n                For examples :\\n                - Compute group sums or means\\n                - Compute group sizes / counts\\n                \\n* Transformation : perform some group-specfic computations and return a like-indexed object.\\n                Some examples :\\n                - Standardise data ( zscore) within a group\\n                - Filling NAs within groups with a value derived from each group\\n                \\n* Filteration : Discard some groups, according to a group-wise computation that evaluates True or False.\\n                Some examples:\\n                - Discard data that belongs to groups with only a few members\\n                - Filter out data based on the group sum or mean\\n                \""
      ]
     },
     "execution_count": 4,
     "metadata": {},
     "output_type": "execute_result"
    }
   ],
   "source": [
    "\"\"\"\n",
    "By 'group by' we are referring to a process involving one or more of the following steps:\n",
    "* Splitting the data into groups based on some criteria\n",
    "* Applying a function to each group independently\n",
    "* Combining the results into a data structure\n",
    "\n",
    "Out of these, the split is the most straight forward.\n",
    "In fact, in many situations we may wish to split the data into groups and do something with those groups.\n",
    "\n",
    "In the apply step, we might wish to one of the following:\n",
    "\n",
    "* Aggregation : Compute a summary statstic ( or statisitics ) for each group. \n",
    "                For examples :\n",
    "                - Compute group sums or means\n",
    "                - Compute group sizes / counts\n",
    "                \n",
    "* Transformation : perform some group-specfic computations and return a like-indexed object.\n",
    "                Some examples :\n",
    "                - Standardise data ( zscore) within a group\n",
    "                - Filling NAs within groups with a value derived from each group\n",
    "                \n",
    "* Filteration : Discard some groups, according to a group-wise computation that evaluates True or False.\n",
    "                Some examples:\n",
    "                - Discard data that belongs to groups with only a few members\n",
    "                - Filter out data based on the group sum or mean\n",
    "                \"\"\""
   ]
  },
  {
   "cell_type": "code",
   "execution_count": 5,
   "metadata": {},
   "outputs": [],
   "source": [
    "# Splitting an object into groups\n",
    "\n",
    "# Pandas objects can be split on any of their axes.\n",
    "# The abstract definition of grouping is to provide a mapping of labels to group names.\n",
    "# To create a GroupBy object, you do the following :\n",
    "\n",
    "# grouped = obj.groupby(key)\n",
    "# grouped = obj.groupby(key, axis=0)\n",
    "# grouped = obj.groupby([key1, key2])\n",
    "\n",
    "# Note : Here keys can be a function, a series, a list, a dictionary or columns of dataframe\n",
    "\n",
    "# The mapping can be specified many different ways :\n",
    "    # A Python function, to be called on each of the axis lables\n",
    "    # A list or numpy array of the same length as the selected axis\n",
    "    # A dict or series, providing a label -> group name mapping\n",
    "    # For DataFrame objects, a string indicating a column to be used to group\n",
    "        # Of course df.groupby('A') is just syntactic sugar for df.groupby(df['A']), but it makes life simpler.\n",
    "    # For DataFrame objects, a string indicating an index level to be sued to group\n",
    "    # A list of any of the above things\n",
    "\n",
    "# Collectively we refer to the grouping objects as the keys.    \n",
    "    \n"
   ]
  },
  {
   "cell_type": "code",
   "execution_count": 8,
   "metadata": {},
   "outputs": [
    {
     "name": "stdout",
     "output_type": "stream",
     "text": [
      "     A      B         C         D\n",
      "0  foo    one -0.380525 -0.451801\n",
      "1  bar    one -0.142469  1.662646\n",
      "2  foo    two  0.245505  1.430369\n",
      "3  bar  three -1.293736 -0.063794\n",
      "4  foo    two -0.937731  0.122840\n",
      "5  bar    two  0.020178 -1.058284\n",
      "6  foo    one  0.353061  0.325454\n",
      "7  foo  three -0.024729  0.998497\n"
     ]
    }
   ],
   "source": [
    "# Consider the following dataframe :\n",
    "\n",
    "import pandas as pd\n",
    "import numpy as np\n",
    "df = pd.DataFrame({'A':['foo','bar','foo','bar','foo','bar','foo','foo'],\n",
    "                   'B':['one','one','two','three','two','two','one','three'],\n",
    "                   'C':np.random.randn(8),\n",
    "                   'D':np.random.randn(8)})\n",
    "print(df)"
   ]
  },
  {
   "cell_type": "code",
   "execution_count": 18,
   "metadata": {},
   "outputs": [
    {
     "name": "stdout",
     "output_type": "stream",
     "text": [
      "{'bar': Int64Index([1, 3, 5], dtype='int64'), 'foo': Int64Index([0, 2, 4, 6, 7], dtype='int64')}\n"
     ]
    }
   ],
   "source": [
    "# on a DataFrame, we obtain a GroupBy object by calling groupby().\n",
    "# We could naturally group by either the A or B coloumns, or both:\n",
    "\n",
    "groupedby_A = df.groupby('A')\n",
    "print(groupedby_A.groups)"
   ]
  },
  {
   "cell_type": "code",
   "execution_count": 19,
   "metadata": {},
   "outputs": [
    {
     "name": "stdout",
     "output_type": "stream",
     "text": [
      "{('bar', 'one'): Int64Index([1], dtype='int64'), ('bar', 'three'): Int64Index([3], dtype='int64'), ('bar', 'two'): Int64Index([5], dtype='int64'), ('foo', 'one'): Int64Index([0, 6], dtype='int64'), ('foo', 'three'): Int64Index([7], dtype='int64'), ('foo', 'two'): Int64Index([2, 4], dtype='int64')}\n"
     ]
    }
   ],
   "source": [
    "groupedby_AnB = df.groupby(['A','B'])\n",
    "print(groupedby_AnB.groups)"
   ]
  },
  {
   "cell_type": "code",
   "execution_count": null,
   "metadata": {},
   "outputs": [],
   "source": []
  },
  {
   "cell_type": "code",
   "execution_count": null,
   "metadata": {},
   "outputs": [],
   "source": []
  }
 ],
 "metadata": {
  "kernelspec": {
   "display_name": "Python 3",
   "language": "python",
   "name": "python3"
  },
  "language_info": {
   "codemirror_mode": {
    "name": "ipython",
    "version": 3
   },
   "file_extension": ".py",
   "mimetype": "text/x-python",
   "name": "python",
   "nbconvert_exporter": "python",
   "pygments_lexer": "ipython3",
   "version": "3.7.0"
  }
 },
 "nbformat": 4,
 "nbformat_minor": 2
}
