{
 "cells": [
  {
   "cell_type": "code",
   "execution_count": 1,
   "metadata": {},
   "outputs": [],
   "source": [
    "# 01-Aggregation-001"
   ]
  },
  {
   "cell_type": "code",
   "execution_count": 2,
   "metadata": {},
   "outputs": [
    {
     "data": {
      "text/html": [
       "<div>\n",
       "<style scoped>\n",
       "    .dataframe tbody tr th:only-of-type {\n",
       "        vertical-align: middle;\n",
       "    }\n",
       "\n",
       "    .dataframe tbody tr th {\n",
       "        vertical-align: top;\n",
       "    }\n",
       "\n",
       "    .dataframe thead th {\n",
       "        text-align: right;\n",
       "    }\n",
       "</style>\n",
       "<table border=\"1\" class=\"dataframe\">\n",
       "  <thead>\n",
       "    <tr style=\"text-align: right;\">\n",
       "      <th></th>\n",
       "      <th>A</th>\n",
       "      <th>B</th>\n",
       "      <th>C</th>\n",
       "      <th>D</th>\n",
       "    </tr>\n",
       "  </thead>\n",
       "  <tbody>\n",
       "    <tr>\n",
       "      <th>0</th>\n",
       "      <td>foo</td>\n",
       "      <td>one</td>\n",
       "      <td>-1.115199</td>\n",
       "      <td>-0.673422</td>\n",
       "    </tr>\n",
       "    <tr>\n",
       "      <th>1</th>\n",
       "      <td>bar</td>\n",
       "      <td>one</td>\n",
       "      <td>0.287236</td>\n",
       "      <td>0.583512</td>\n",
       "    </tr>\n",
       "    <tr>\n",
       "      <th>2</th>\n",
       "      <td>foo</td>\n",
       "      <td>two</td>\n",
       "      <td>0.187704</td>\n",
       "      <td>1.727005</td>\n",
       "    </tr>\n",
       "    <tr>\n",
       "      <th>3</th>\n",
       "      <td>bar</td>\n",
       "      <td>three</td>\n",
       "      <td>-0.862117</td>\n",
       "      <td>-0.411008</td>\n",
       "    </tr>\n",
       "    <tr>\n",
       "      <th>4</th>\n",
       "      <td>foo</td>\n",
       "      <td>two</td>\n",
       "      <td>-0.989610</td>\n",
       "      <td>-1.538953</td>\n",
       "    </tr>\n",
       "    <tr>\n",
       "      <th>5</th>\n",
       "      <td>bar</td>\n",
       "      <td>two</td>\n",
       "      <td>-0.323232</td>\n",
       "      <td>-0.653121</td>\n",
       "    </tr>\n",
       "    <tr>\n",
       "      <th>6</th>\n",
       "      <td>foo</td>\n",
       "      <td>one</td>\n",
       "      <td>0.051462</td>\n",
       "      <td>-0.624237</td>\n",
       "    </tr>\n",
       "    <tr>\n",
       "      <th>7</th>\n",
       "      <td>foo</td>\n",
       "      <td>three</td>\n",
       "      <td>-0.038111</td>\n",
       "      <td>1.293366</td>\n",
       "    </tr>\n",
       "  </tbody>\n",
       "</table>\n",
       "</div>"
      ],
      "text/plain": [
       "     A      B         C         D\n",
       "0  foo    one -1.115199 -0.673422\n",
       "1  bar    one  0.287236  0.583512\n",
       "2  foo    two  0.187704  1.727005\n",
       "3  bar  three -0.862117 -0.411008\n",
       "4  foo    two -0.989610 -1.538953\n",
       "5  bar    two -0.323232 -0.653121\n",
       "6  foo    one  0.051462 -0.624237\n",
       "7  foo  three -0.038111  1.293366"
      ]
     },
     "execution_count": 2,
     "metadata": {},
     "output_type": "execute_result"
    }
   ],
   "source": [
    "import pandas as pd\n",
    "import numpy as np\n",
    "df = pd.DataFrame({'A' : ['foo', 'bar', 'foo', 'bar', 'foo', 'bar', 'foo', 'foo'],\n",
    "                                    'B' : ['one', 'one', 'two', 'three', 'two', 'two', 'one', 'three'],\n",
    "                                    'C' : np.random.randn(8),\n",
    "                                    'D' : np.random.randn(8)}) \n",
    "#print(df)\n",
    "df"
   ]
  },
  {
   "cell_type": "code",
   "execution_count": 3,
   "metadata": {},
   "outputs": [
    {
     "name": "stdout",
     "output_type": "stream",
     "text": [
      "{'bar': Int64Index([1, 3, 5], dtype='int64'), 'foo': Int64Index([0, 2, 4, 6, 7], dtype='int64')}\n"
     ]
    }
   ],
   "source": [
    "# Aggregation\n",
    "\n",
    "# Once the GroupBy object has been created, several methods are available to perform\n",
    "# a computation on the grouped data.\n",
    "\n",
    "# An obvious one is aggregation via the aggregate() or equivalently agg() method.\n",
    "\n",
    "grouped = df.groupby('A')\n",
    "print(grouped.groups)"
   ]
  },
  {
   "cell_type": "code",
   "execution_count": 4,
   "metadata": {},
   "outputs": [
    {
     "name": "stdout",
     "output_type": "stream",
     "text": [
      "            C         D\n",
      "A                      \n",
      "bar -0.898112 -0.480618\n",
      "foo -1.903754  0.183760\n"
     ]
    }
   ],
   "source": [
    "print(grouped.agg(np.sum))"
   ]
  },
  {
   "cell_type": "code",
   "execution_count": 7,
   "metadata": {},
   "outputs": [
    {
     "name": "stdout",
     "output_type": "stream",
     "text": [
      "                  C         D\n",
      "A   B                        \n",
      "bar one    0.287236  0.583512\n",
      "    three -0.862117 -0.411008\n",
      "    two   -0.323232 -0.653121\n",
      "foo one   -1.063737 -1.297658\n",
      "    three -0.038111  1.293366\n",
      "    two   -0.801907  0.188052\n"
     ]
    }
   ],
   "source": [
    "grouped = df.groupby(['A','B'])\n",
    "print(grouped.agg(np.sum))"
   ]
  },
  {
   "cell_type": "code",
   "execution_count": 5,
   "metadata": {},
   "outputs": [
    {
     "name": "stdout",
     "output_type": "stream",
     "text": [
      "     A      B         C         D\n",
      "0  bar    one  0.287236  0.583512\n",
      "1  bar  three -0.862117 -0.411008\n",
      "2  bar    two -0.323232 -0.653121\n",
      "3  foo    one -1.063737 -1.297658\n",
      "4  foo  three -0.038111  1.293366\n",
      "5  foo    two -0.801907  0.188052\n"
     ]
    }
   ],
   "source": [
    "# As you can see, the result of the aggregation will have the group names as the \n",
    "# new index along the grouped axis.\n",
    "# In the case of multiple keys, the result is a MultiIndex by default, \n",
    "# though this can be changed by using the as indexoption :\n",
    "\n",
    "grouped = df.groupby(['A','B'], as_index=False)\n",
    "print(grouped.agg(np.sum))"
   ]
  },
  {
   "cell_type": "code",
   "execution_count": 10,
   "metadata": {},
   "outputs": [
    {
     "name": "stdout",
     "output_type": "stream",
     "text": [
      "     A         C         D\n",
      "0  bar -0.898112 -0.480618\n",
      "1  foo -1.903754  0.183760\n"
     ]
    }
   ],
   "source": [
    "print(df.groupby('A', as_index=False).sum())"
   ]
  },
  {
   "cell_type": "code",
   "execution_count": 11,
   "metadata": {},
   "outputs": [
    {
     "name": "stdout",
     "output_type": "stream",
     "text": [
      "     A      B         C         D\n",
      "0  bar    one  0.287236  0.583512\n",
      "1  bar  three -0.862117 -0.411008\n",
      "2  bar    two -0.323232 -0.653121\n",
      "3  foo    one -1.063737 -1.297658\n",
      "4  foo  three -0.038111  1.293366\n",
      "5  foo    two -0.801907  0.188052\n"
     ]
    }
   ],
   "source": [
    "# Note that you could use the reset_index DataFrame function to achieve the same \n",
    "# result as the column names are stored in the resulting MultiIndex\n",
    "\n",
    "print(df.groupby(['A','B']).sum().reset_index())"
   ]
  },
  {
   "cell_type": "code",
   "execution_count": 12,
   "metadata": {},
   "outputs": [
    {
     "name": "stdout",
     "output_type": "stream",
     "text": [
      "A\n",
      "bar    3\n",
      "foo    5\n",
      "dtype: int64\n"
     ]
    }
   ],
   "source": [
    "# Another simple aggregation example is to compute the size of each group\n",
    "# This is included in GroupBy as the size method.\n",
    "# It returns a series whose index are the group names and whose values are the sizes if each group\n",
    "\n",
    "grouped = df.groupby('A')\n",
    "#print(list(grouped))\n",
    "#print(\"-----------------------------------------\")\n",
    "print(grouped.size())"
   ]
  },
  {
   "cell_type": "code",
   "execution_count": 13,
   "metadata": {},
   "outputs": [
    {
     "name": "stdout",
     "output_type": "stream",
     "text": [
      "A    B    \n",
      "bar  one      1\n",
      "     three    1\n",
      "     two      1\n",
      "foo  one      2\n",
      "     three    1\n",
      "     two      2\n",
      "dtype: int64\n"
     ]
    }
   ],
   "source": [
    "grouped = df.groupby(['A','B'])\n",
    "print(grouped.size())"
   ]
  },
  {
   "cell_type": "code",
   "execution_count": 15,
   "metadata": {},
   "outputs": [
    {
     "name": "stdout",
     "output_type": "stream",
     "text": [
      "              C                                                              \\\n",
      "          count      mean       std       min       25%       50%       75%   \n",
      "A   B                                                                         \n",
      "bar one     1.0  0.287236       NaN  0.287236  0.287236  0.287236  0.287236   \n",
      "    three   1.0 -0.862117       NaN -0.862117 -0.862117 -0.862117 -0.862117   \n",
      "    two     1.0 -0.323232       NaN -0.323232 -0.323232 -0.323232 -0.323232   \n",
      "foo one     2.0 -0.531868  0.824954 -1.115199 -0.823533 -0.531868 -0.240203   \n",
      "    three   1.0 -0.038111       NaN -0.038111 -0.038111 -0.038111 -0.038111   \n",
      "    two     2.0 -0.400953  0.832487 -0.989610 -0.695282 -0.400953 -0.106625   \n",
      "\n",
      "                        D                                                    \\\n",
      "                max count      mean       std       min       25%       50%   \n",
      "A   B                                                                         \n",
      "bar one    0.287236   1.0  0.583512       NaN  0.583512  0.583512  0.583512   \n",
      "    three -0.862117   1.0 -0.411008       NaN -0.411008 -0.411008 -0.411008   \n",
      "    two   -0.323232   1.0 -0.653121       NaN -0.653121 -0.653121 -0.653121   \n",
      "foo one    0.051462   2.0 -0.648829  0.034779 -0.673422 -0.661125 -0.648829   \n",
      "    three -0.038111   1.0  1.293366       NaN  1.293366  1.293366  1.293366   \n",
      "    two    0.187704   2.0  0.094026  2.309381 -1.538953 -0.722463  0.094026   \n",
      "\n",
      "                               \n",
      "                75%       max  \n",
      "A   B                          \n",
      "bar one    0.583512  0.583512  \n",
      "    three -0.411008 -0.411008  \n",
      "    two   -0.653121 -0.653121  \n",
      "foo one   -0.636533 -0.624237  \n",
      "    three  1.293366  1.293366  \n",
      "    two    0.910515  1.727005  \n"
     ]
    }
   ],
   "source": [
    "print(grouped.describe())"
   ]
  },
  {
   "cell_type": "code",
   "execution_count": 16,
   "metadata": {},
   "outputs": [
    {
     "data": {
      "text/plain": [
       "'\\nAggregating functions are the ones that reduce the dimension of the returned objects. Some common aggregating functions are tabulated below:\\nFunction\\tDescription\\nmean()\\tCompute mean of groups\\nsum()\\tCompute sum of group values\\nsize()\\tCompute group sizes\\ncount()\\tCompute count of group\\nstd()\\tStandard deviation of groups\\nvar()\\tCompute variance of groups\\nsem()\\tStandard error of the mean of groups\\ndescribe()\\tGenerates descriptive statistics\\nfirst()\\tCompute first of group values\\nlast()\\tCompute last of group values\\nnth()\\tTake nth value, or a subset if n is a list\\nmin()\\tCompute min of group values\\nmax()\\tCompute max of group values\\n'"
      ]
     },
     "execution_count": 16,
     "metadata": {},
     "output_type": "execute_result"
    }
   ],
   "source": [
    "\"\"\"\n",
    "Aggregating functions are the ones that reduce the dimension of the returned objects. Some common aggregating functions are tabulated below:\n",
    "Function\tDescription\n",
    "mean()\tCompute mean of groups\n",
    "sum()\tCompute sum of group values\n",
    "size()\tCompute group sizes\n",
    "count()\tCompute count of group\n",
    "std()\tStandard deviation of groups\n",
    "var()\tCompute variance of groups\n",
    "sem()\tStandard error of the mean of groups\n",
    "describe()\tGenerates descriptive statistics\n",
    "first()\tCompute first of group values\n",
    "last()\tCompute last of group values\n",
    "nth()\tTake nth value, or a subset if n is a list\n",
    "min()\tCompute min of group values\n",
    "max()\tCompute max of group values\n",
    "\"\"\""
   ]
  },
  {
   "cell_type": "code",
   "execution_count": 17,
   "metadata": {},
   "outputs": [],
   "source": [
    "# The aggregating functions above will exclude NA values.\n",
    "# Any function which reduces a series to a scalar value is a agregation function and \n",
    "# will work, a trivial example is df.groupby('A').agg(lambda ser:1).\n",
    "# Note that nth() can act as a reducer or a filter."
   ]
  },
  {
   "cell_type": "code",
   "execution_count": 18,
   "metadata": {},
   "outputs": [
    {
     "name": "stdout",
     "output_type": "stream",
     "text": [
      "          sum      mean       std\n",
      "A                                \n",
      "bar -0.898112 -0.299371  0.575048\n",
      "foo -1.903754 -0.380751  0.619975\n"
     ]
    }
   ],
   "source": [
    "# Applying multiple functions at once\n",
    "# With grouped series you can also pass a list or dict of functions to do aggregation with,\n",
    "# outputting a DataFrame:\n",
    "grouped = df.groupby('A')\n",
    "print(grouped['C'].agg([np.sum, np.mean, np.std]))"
   ]
  },
  {
   "cell_type": "code",
   "execution_count": 27,
   "metadata": {},
   "outputs": [
    {
     "name": "stdout",
     "output_type": "stream",
     "text": [
      "            C                             D                    \n",
      "          sum      mean       std       sum      mean       std\n",
      "A                                                              \n",
      "bar  1.411223  0.470408  1.049895  1.349271  0.449757  0.876570\n",
      "foo -0.947883 -0.189577  1.030988  1.715318  0.343064  1.091461\n"
     ]
    }
   ],
   "source": [
    "# On a grouped DataFrame, you can pass a list of functions to apply to each column,\n",
    "# which produces an aggregated result with hierarchical index:\n",
    "print(grouped.agg([np.sum, np.mean, np.std]))"
   ]
  },
  {
   "cell_type": "code",
   "execution_count": 28,
   "metadata": {},
   "outputs": [
    {
     "name": "stdout",
     "output_type": "stream",
     "text": [
      "          foo       bar       baz\n",
      "A                                \n",
      "bar  1.411223  0.470408  1.049895\n",
      "foo -0.947883 -0.189577  1.030988\n"
     ]
    }
   ],
   "source": [
    "# The resulting aggregations are names for the functions themselves.\n",
    "# If you need to rename, then you can add in a chained operation for a Series like this:\n",
    "grouped = df.groupby('A')\n",
    "print(grouped['C'].agg([np.sum, np.mean, np.std])\n",
    "      .rename(columns={'sum': 'foo', 'mean':'bar','std':'baz'}))"
   ]
  },
  {
   "cell_type": "code",
   "execution_count": 29,
   "metadata": {},
   "outputs": [
    {
     "name": "stdout",
     "output_type": "stream",
     "text": [
      "            C                             D                    \n",
      "          foo       bar       baz       foo       bar       baz\n",
      "A                                                              \n",
      "bar  1.411223  0.470408  1.049895  1.349271  0.449757  0.876570\n",
      "foo -0.947883 -0.189577  1.030988  1.715318  0.343064  1.091461\n"
     ]
    }
   ],
   "source": [
    "# for a grouped DataFrame, you can rename in a similar manner:\n",
    "print((grouped.agg([np.sum, np.mean, np.std])\n",
    "       .rename(columns={'sum': 'foo', 'mean': 'bar', 'std':'baz'})))"
   ]
  },
  {
   "cell_type": "code",
   "execution_count": null,
   "metadata": {},
   "outputs": [],
   "source": []
  }
 ],
 "metadata": {
  "kernelspec": {
   "display_name": "Python 3",
   "language": "python",
   "name": "python3"
  },
  "language_info": {
   "codemirror_mode": {
    "name": "ipython",
    "version": 3
   },
   "file_extension": ".py",
   "mimetype": "text/x-python",
   "name": "python",
   "nbconvert_exporter": "python",
   "pygments_lexer": "ipython3",
   "version": "3.7.0"
  }
 },
 "nbformat": 4,
 "nbformat_minor": 2
}
