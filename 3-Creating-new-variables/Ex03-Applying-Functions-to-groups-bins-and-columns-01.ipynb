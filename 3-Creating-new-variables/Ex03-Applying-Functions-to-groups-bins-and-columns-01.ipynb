{
 "cells": [
  {
   "cell_type": "code",
   "execution_count": 5,
   "metadata": {},
   "outputs": [],
   "source": [
    "# Ex03-Applying-Functions-to-groups-bins-and-columns-01"
   ]
  },
  {
   "cell_type": "code",
   "execution_count": 6,
   "metadata": {},
   "outputs": [],
   "source": [
    "# The number reason we use Python to analyse the data is to handle datasets larger than a millin rows\n",
    "# The number two reason is the ease of applying functions to my data"
   ]
  },
  {
   "cell_type": "code",
   "execution_count": 23,
   "metadata": {},
   "outputs": [
    {
     "name": "stdout",
     "output_type": "stream",
     "text": [
      "     fname     lname  gender  age  exercise  hours  grade  \\\n",
      "0   Marcia      Pugh  female   17         3     10   82.4   \n",
      "1   Kadeem  Morrison    male   18         4      4   78.2   \n",
      "2     Nash    Powell    male   18         5      9   79.3   \n",
      "3  Noelani    Wagner  female   14         2      7   83.2   \n",
      "4  Noelani    Cherry  female   18         4     15   87.4   \n",
      "\n",
      "                                    address  \n",
      "0   9253 Richardson Road, Matawan, NJ 07747  \n",
      "1          33 Spring Dr., Taunton, MA 02780  \n",
      "2          41 Hill Avenue, Mentor, OH 44060  \n",
      "3        8839 Marshall St., Miami, FL 33125  \n",
      "4  8304 Charles Rd., Lewis Center, OH 43035  \n"
     ]
    }
   ],
   "source": [
    "import pandas as pd\n",
    "file = r\"C:\\Users\\Guestuser\\Downloads\\datasets\\datasets\\gradedata.csv\"\n",
    "df = pd.read_csv(file)\n",
    "print(df.head())"
   ]
  },
  {
   "cell_type": "code",
   "execution_count": 8,
   "metadata": {},
   "outputs": [
    {
     "name": "stdout",
     "output_type": "stream",
     "text": [
      "     fname     lname  gender  age  exercise  hours  grade  \\\n",
      "0   Marcia      Pugh  female   17         3     10   82.4   \n",
      "1   Kadeem  Morrison    male   18         4      4   78.2   \n",
      "2     Nash    Powell    male   18         5      9   79.3   \n",
      "3  Noelani    Wagner  female   14         2      7   83.2   \n",
      "4  Noelani    Cherry  female   18         4     15   87.4   \n",
      "\n",
      "                                    address lettergrade  \n",
      "0   9253 Richardson Road, Matawan, NJ 07747           B  \n",
      "1          33 Spring Dr., Taunton, MA 02780           C  \n",
      "2          41 Hill Avenue, Mentor, OH 44060           C  \n",
      "3        8839 Marshall St., Miami, FL 33125           B  \n",
      "4  8304 Charles Rd., Lewis Center, OH 43035           B  \n"
     ]
    }
   ],
   "source": [
    "# Now the data is loaded, we need to define the bins and group names\n",
    "# Define bins as 0 to 60, 60 to 70, 70 to 80, 80 to 90, 90 to 100\n",
    "\n",
    "# Create the bin dividers\n",
    "bins = [0,60,70,80,90,100]\n",
    "\n",
    "# Create names for the four groups\n",
    "group_names = ['F','D','C','B','A']\n",
    "\n",
    "# Notice that there is one more bin value than there are group_names\n",
    "# This is because there needs to be a top and bottom limit for each bin\n",
    "\n",
    "# Cut grades\n",
    "df['lettergrade'] = pd.cut(df['grade'], bins, labels = group_names)\n",
    "print(df.head())\n"
   ]
  },
  {
   "cell_type": "code",
   "execution_count": 9,
   "metadata": {},
   "outputs": [
    {
     "name": "stdout",
     "output_type": "stream",
     "text": [
      "lettergrade\n",
      "F     3.933333\n",
      "D     5.544041\n",
      "C     8.381034\n",
      "B    11.827680\n",
      "A    15.305263\n",
      "Name: hours, dtype: float64\n"
     ]
    }
   ],
   "source": [
    "# To find the average hours of study by lettr grade, we apply our functions to the binned column.\n",
    "\n",
    "print(df.groupby('lettergrade')['hours'].mean())"
   ]
  },
  {
   "cell_type": "code",
   "execution_count": 10,
   "metadata": {},
   "outputs": [
    {
     "name": "stdout",
     "output_type": "stream",
     "text": [
      "     fname     lname  gender  age  exercise  hours  grade  \\\n",
      "0   Marcia      Pugh  female   17         3     10     82   \n",
      "1   Kadeem  Morrison    male   18         4      4     78   \n",
      "2     Nash    Powell    male   18         5      9     79   \n",
      "3  Noelani    Wagner  female   14         2      7     83   \n",
      "4  Noelani    Cherry  female   18         4     15     87   \n",
      "\n",
      "                                    address lettergrade  \n",
      "0   9253 Richardson Road, Matawan, NJ 07747           B  \n",
      "1          33 Spring Dr., Taunton, MA 02780           C  \n",
      "2          41 Hill Avenue, Mentor, OH 44060           C  \n",
      "3        8839 Marshall St., Miami, FL 33125           B  \n",
      "4  8304 Charles Rd., Lewis Center, OH 43035           B  \n"
     ]
    }
   ],
   "source": [
    "# applying the integer function to the grade column\n",
    "df['grade'] = df['grade'].apply(lambda x:int(x))\n",
    "print(df.head())"
   ]
  },
  {
   "cell_type": "code",
   "execution_count": 19,
   "metadata": {},
   "outputs": [
    {
     "name": "stdout",
     "output_type": "stream",
     "text": [
      "-----------------------------------\n",
      "0    82\n",
      "1    78\n",
      "2    79\n",
      "3    83\n",
      "4    87\n",
      "5    88\n",
      "6    80\n",
      "7    95\n",
      "8    76\n",
      "9    89\n",
      "Name: grade, dtype: int64\n",
      "-----------------------------------\n",
      "         count    mean       std   min   25%   50%    75%    max\n",
      "gender                                                          \n",
      "female  1000.0  82.341  9.808921  32.0  75.0  82.0  89.25  100.0\n",
      "male    1000.0  81.981  9.748624  43.0  75.0  83.0  89.00  100.0\n",
      "-----------------------------------\n",
      "gender\n",
      "female    82.341\n",
      "male      81.981\n",
      "Name: grade, dtype: float64\n"
     ]
    }
   ],
   "source": [
    "# applying a function to a group\n",
    "gender_pre_score = df['grade'].groupby(df['gender'])\n",
    "print(\"-----------------------------------\")\n",
    "print(gender_pre_score.head())\n",
    "print(\"-----------------------------------\")\n",
    "print(gender_pre_score.describe())\n",
    "print(\"-----------------------------------\")\n",
    "print(gender_pre_score.mean())\n",
    "\n",
    "# Here we created a grouping object.\n",
    "# In other words, create an object that represents that particular grouping.\n",
    "# in this case, we group grades by the gender"
   ]
  },
  {
   "cell_type": "code",
   "execution_count": 22,
   "metadata": {},
   "outputs": [
    {
     "name": "stdout",
     "output_type": "stream",
     "text": [
      "-----------------------------------\n",
      "       count       mean       std   min    25%    50%     75%    max\n",
      "hours                                                               \n",
      "0        3.0  76.333333  1.527525  75.0  75.50   76.0   77.00   78.0\n",
      "1        2.0  72.500000  2.121320  71.0  71.75   72.5   73.25   74.0\n",
      "2       15.0  64.866667  5.488516  57.0  61.00   63.0   69.00   77.0\n",
      "3       40.0  66.000000  7.260713  43.0  60.75   66.0   72.00   76.0\n",
      "4       58.0  67.741379  5.981141  58.0  62.00   68.0   72.75   78.0\n",
      "5       83.0  69.975904  5.481623  60.0  66.00   70.0   75.00   82.0\n",
      "6      106.0  72.594340  5.475101  61.0  68.00   73.0   77.00   83.0\n",
      "7      110.0  73.609091  5.458930  62.0  70.00   73.5   77.00   85.0\n",
      "8      143.0  76.027972  5.623071  66.0  72.00   75.0   80.50   88.0\n",
      "9      156.0  78.173077  5.935311  68.0  73.00   79.0   83.00   90.0\n",
      "10     188.0  80.500000  5.792767  69.0  76.00   80.0   85.00   92.0\n",
      "11     196.0  82.688776  5.471612  71.0  78.00   83.0   87.25   95.0\n",
      "12     179.0  84.435754  5.711221  73.0  80.00   84.0   89.00   95.0\n",
      "13     152.0  86.559211  5.815865  75.0  82.00   87.0   91.00   98.0\n",
      "14     155.0  88.716129  5.892715  76.0  84.00   88.0   94.00  100.0\n",
      "15     123.0  90.788618  5.901170  80.0  85.50   91.0   96.00  100.0\n",
      "16      93.0  90.365591  8.234056  32.0  87.00   90.0   95.00  100.0\n",
      "17      81.0  94.049383  4.824161  83.0  91.00   95.0   99.00  100.0\n",
      "18      61.0  94.360656  5.118700  85.0  90.00   95.0  100.00  100.0\n",
      "19      34.0  95.911765  4.521783  87.0  92.25   98.5  100.00  100.0\n",
      "20      22.0  98.636364  2.803832  92.0  99.25  100.0  100.00  100.0\n",
      "-----------------------------------\n",
      "hours\n",
      "0     76.333333\n",
      "1     72.500000\n",
      "2     64.866667\n",
      "3     66.000000\n",
      "4     67.741379\n",
      "5     69.975904\n",
      "6     72.594340\n",
      "7     73.609091\n",
      "8     76.027972\n",
      "9     78.173077\n",
      "10    80.500000\n",
      "11    82.688776\n",
      "12    84.435754\n",
      "13    86.559211\n",
      "14    88.716129\n",
      "15    90.788618\n",
      "16    90.365591\n",
      "17    94.049383\n",
      "18    94.360656\n",
      "19    95.911765\n",
      "20    98.636364\n",
      "Name: grade, dtype: float64\n"
     ]
    }
   ],
   "source": [
    "# applying a function to a group based on another parameter\n",
    "gender_pre_score = df['grade'].groupby(df['hours'])\n",
    "print(\"-----------------------------------\")\n",
    "print(gender_pre_score.describe())\n",
    "print(\"-----------------------------------\")\n",
    "print(gender_pre_score.mean())\n"
   ]
  },
  {
   "cell_type": "code",
   "execution_count": null,
   "metadata": {},
   "outputs": [],
   "source": []
  }
 ],
 "metadata": {
  "kernelspec": {
   "display_name": "Python 3",
   "language": "python",
   "name": "python3"
  },
  "language_info": {
   "codemirror_mode": {
    "name": "ipython",
    "version": 3
   },
   "file_extension": ".py",
   "mimetype": "text/x-python",
   "name": "python",
   "nbconvert_exporter": "python",
   "pygments_lexer": "ipython3",
   "version": "3.7.0"
  }
 },
 "nbformat": 4,
 "nbformat_minor": 2
}
