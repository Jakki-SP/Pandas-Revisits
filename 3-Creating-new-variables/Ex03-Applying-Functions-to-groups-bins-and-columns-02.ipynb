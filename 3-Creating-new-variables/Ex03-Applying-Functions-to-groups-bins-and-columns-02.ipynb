{
 "cells": [
  {
   "cell_type": "code",
   "execution_count": 5,
   "metadata": {},
   "outputs": [],
   "source": [
    "# Ex03-Applying-Functions-to-groups-bins-and-columns-02"
   ]
  },
  {
   "cell_type": "code",
   "execution_count": 1,
   "metadata": {},
   "outputs": [],
   "source": [
    "# assignment\n",
    "# Import the datsets/gradedata.csv and create a new binned column of the 'status'\n",
    "# as either passing (>70) or failing(<=70). \n",
    "# Then, compute the mean hours of exercise of the female students with a \"status\" passing"
   ]
  },
  {
   "cell_type": "code",
   "execution_count": 2,
   "metadata": {},
   "outputs": [
    {
     "name": "stdout",
     "output_type": "stream",
     "text": [
      "     fname     lname  gender  age  exercise  hours  grade  \\\n",
      "0   Marcia      Pugh  female   17         3     10   82.4   \n",
      "1   Kadeem  Morrison    male   18         4      4   78.2   \n",
      "2     Nash    Powell    male   18         5      9   79.3   \n",
      "3  Noelani    Wagner  female   14         2      7   83.2   \n",
      "4  Noelani    Cherry  female   18         4     15   87.4   \n",
      "\n",
      "                                    address  \n",
      "0   9253 Richardson Road, Matawan, NJ 07747  \n",
      "1          33 Spring Dr., Taunton, MA 02780  \n",
      "2          41 Hill Avenue, Mentor, OH 44060  \n",
      "3        8839 Marshall St., Miami, FL 33125  \n",
      "4  8304 Charles Rd., Lewis Center, OH 43035  \n"
     ]
    }
   ],
   "source": [
    "import pandas as pd\n",
    "file = r\"C:\\Users\\Guestuser\\Downloads\\datasets\\datasets\\gradedata.csv\"\n",
    "df = pd.read_csv(file)\n",
    "print(df.head())"
   ]
  },
  {
   "cell_type": "code",
   "execution_count": 3,
   "metadata": {},
   "outputs": [
    {
     "name": "stdout",
     "output_type": "stream",
     "text": [
      "     fname     lname  gender  age  exercise  hours  grade  \\\n",
      "0   Marcia      Pugh  female   17         3     10   82.4   \n",
      "1   Kadeem  Morrison    male   18         4      4   78.2   \n",
      "2     Nash    Powell    male   18         5      9   79.3   \n",
      "3  Noelani    Wagner  female   14         2      7   83.2   \n",
      "4  Noelani    Cherry  female   18         4     15   87.4   \n",
      "\n",
      "                                    address status  \n",
      "0   9253 Richardson Road, Matawan, NJ 07747   Pass  \n",
      "1          33 Spring Dr., Taunton, MA 02780   Pass  \n",
      "2          41 Hill Avenue, Mentor, OH 44060   Pass  \n",
      "3        8839 Marshall St., Miami, FL 33125   Pass  \n",
      "4  8304 Charles Rd., Lewis Center, OH 43035   Pass  \n"
     ]
    }
   ],
   "source": [
    "# Now the data is loaded, we need to define the bins and group names\n",
    "# Define bins as 0 to 60, 60 to 70, 70 to 80, 80 to 90, 90 to 100\n",
    "\n",
    "# Create the bin dividers\n",
    "bins = [0,70,100]\n",
    "\n",
    "# Create names for groups\n",
    "group_names = ['Fail','Pass']\n",
    "\n",
    "# Cut grades\n",
    "df['status'] = pd.cut(df['grade'], bins, labels = group_names)\n",
    "print(df.head())\n"
   ]
  },
  {
   "cell_type": "code",
   "execution_count": 5,
   "metadata": {},
   "outputs": [
    {
     "name": "stdout",
     "output_type": "stream",
     "text": [
      "gender  status\n",
      "female  Fail      2.585859\n",
      "        Pass      3.097669\n",
      "male    Fail      2.486239\n",
      "        Pass      3.011223\n",
      "Name: exercise, dtype: float64\n"
     ]
    }
   ],
   "source": [
    "# To find the average hours of study by lettr grade, we apply our functions to the binned column.\n",
    "\n",
    "print(df.groupby(['gender','status'])['exercise'].mean())"
   ]
  },
  {
   "cell_type": "code",
   "execution_count": null,
   "metadata": {},
   "outputs": [],
   "source": []
  },
  {
   "cell_type": "code",
   "execution_count": null,
   "metadata": {},
   "outputs": [],
   "source": []
  },
  {
   "cell_type": "code",
   "execution_count": null,
   "metadata": {},
   "outputs": [],
   "source": []
  },
  {
   "cell_type": "code",
   "execution_count": null,
   "metadata": {},
   "outputs": [],
   "source": []
  }
 ],
 "metadata": {
  "kernelspec": {
   "display_name": "Python 3",
   "language": "python",
   "name": "python3"
  },
  "language_info": {
   "codemirror_mode": {
    "name": "ipython",
    "version": 3
   },
   "file_extension": ".py",
   "mimetype": "text/x-python",
   "name": "python",
   "nbconvert_exporter": "python",
   "pygments_lexer": "ipython3",
   "version": "3.7.0"
  }
 },
 "nbformat": 4,
 "nbformat_minor": 2
}
