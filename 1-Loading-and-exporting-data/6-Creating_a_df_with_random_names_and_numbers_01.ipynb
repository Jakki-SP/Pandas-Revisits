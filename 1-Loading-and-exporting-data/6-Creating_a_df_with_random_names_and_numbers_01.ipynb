{
 "cells": [
  {
   "cell_type": "code",
   "execution_count": 1,
   "metadata": {},
   "outputs": [],
   "source": [
    "# 6-Creating_a_df_with_random_names_and_numbers_01"
   ]
  },
  {
   "cell_type": "code",
   "execution_count": 5,
   "metadata": {},
   "outputs": [],
   "source": [
    "import pandas as pd\n",
    "from numpy import random\n",
    "from numpy.random import randint"
   ]
  },
  {
   "cell_type": "code",
   "execution_count": 8,
   "metadata": {},
   "outputs": [
    {
     "name": "stdout",
     "output_type": "stream",
     "text": [
      "       Names  Births\n",
      "0    Jessica     964\n",
      "1        Mel     313\n",
      "2    Jessica     958\n",
      "3       John     832\n",
      "4        Mel     374\n",
      "5       Mary     391\n",
      "6        Bob     681\n",
      "7        Mel     983\n",
      "8        Mel     600\n",
      "9    Jessica     659\n",
      "10       Mel     455\n",
      "11      Mary     943\n",
      "12       Bob     928\n",
      "13       Bob     485\n",
      "14       Bob     231\n",
      "15      Mary      88\n",
      "16       Mel     865\n",
      "17   Jessica     679\n",
      "18       Mel     999\n",
      "19       Mel     914\n",
      "20       Mel     645\n",
      "21      John     788\n",
      "22      John     424\n",
      "23      Mary     171\n",
      "24      John     532\n",
      "25   Jessica     762\n",
      "26       Mel     862\n",
      "27   Jessica     110\n",
      "28      Mary     872\n",
      "29       Mel     460\n",
      "..       ...     ...\n",
      "970      Mel     296\n",
      "971     Mary     822\n",
      "972      Bob      92\n",
      "973     Mary     256\n",
      "974     Mary     320\n",
      "975     John     399\n",
      "976     John     798\n",
      "977      Bob     950\n",
      "978      Mel     583\n",
      "979      Bob     944\n",
      "980  Jessica     873\n",
      "981  Jessica     284\n",
      "982     John     994\n",
      "983     Mary     315\n",
      "984  Jessica     595\n",
      "985      Bob     889\n",
      "986     Mary     176\n",
      "987  Jessica     239\n",
      "988     Mary     900\n",
      "989      Bob     490\n",
      "990  Jessica     652\n",
      "991      Bob      23\n",
      "992  Jessica     919\n",
      "993      Bob     908\n",
      "994  Jessica     201\n",
      "995     John     495\n",
      "996     John     679\n",
      "997  Jessica     473\n",
      "998     John     999\n",
      "999  Jessica     167\n",
      "\n",
      "[1000 rows x 2 columns]\n"
     ]
    }
   ],
   "source": [
    "names = ['Bob','Jessica','Mary','John','Mel']\n",
    "randnames = []\n",
    "for i in range(1000):\n",
    "    name = names[randint(low=0,high=len(names))] # generates a random integer between zeo and the length of the list of names\n",
    "    randnames.append(name)\n",
    "\n",
    "# Now we have a list of 1000 random names saved in our random names variable\n",
    "#Let's create a list of 1000 random numbers from 0 to 1000\n",
    "\n",
    "births = []\n",
    "for i in range(1000):\n",
    "    births.append(randint(low=0,high=1000))\n",
    "\n",
    "# and , finally, zip the two lists together and create the dataframe\n",
    "babydataset = list(zip(randnames, births))\n",
    "df = pd.DataFrame(data = babydataset, columns=['Names', 'Births'])\n",
    "print(df)"
   ]
  },
  {
   "cell_type": "code",
   "execution_count": null,
   "metadata": {},
   "outputs": [],
   "source": []
  }
 ],
 "metadata": {
  "kernelspec": {
   "display_name": "Python 3",
   "language": "python",
   "name": "python3"
  },
  "language_info": {
   "codemirror_mode": {
    "name": "ipython",
    "version": 3
   },
   "file_extension": ".py",
   "mimetype": "text/x-python",
   "name": "python",
   "nbconvert_exporter": "python",
   "pygments_lexer": "ipython3",
   "version": "3.6.5"
  }
 },
 "nbformat": 4,
 "nbformat_minor": 2
}
