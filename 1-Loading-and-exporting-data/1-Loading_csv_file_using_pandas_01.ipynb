{
 "cells": [
  {
   "cell_type": "code",
   "execution_count": 5,
   "metadata": {},
   "outputs": [],
   "source": [
    "# Importing/loading data from CSV files"
   ]
  },
  {
   "cell_type": "code",
   "execution_count": 6,
   "metadata": {},
   "outputs": [
    {
     "data": {
      "text/plain": [
       "'C:\\\\Users\\\\Guestuser\\\\V\\\\Pandas\\\\1-Loading-and-exporting-data'"
      ]
     },
     "execution_count": 6,
     "metadata": {},
     "output_type": "execute_result"
    }
   ],
   "source": [
    "# getting the current working directory\n",
    "import os\n",
    "os.getcwd()"
   ]
  },
  {
   "cell_type": "code",
   "execution_count": 14,
   "metadata": {},
   "outputs": [],
   "source": [
    "# setting the current working directory\n",
    "os.chdir(r\"C:\\Users\\Guestuser\\Downloads\")\n",
    "file_location = r\"C:\\Users\\Guestuser\\Downloads\\datasets\\datasets\\smallgradesh.csv\""
   ]
  },
  {
   "cell_type": "code",
   "execution_count": 15,
   "metadata": {},
   "outputs": [],
   "source": [
    "import pandas as pd"
   ]
  },
  {
   "cell_type": "code",
   "execution_count": 17,
   "metadata": {},
   "outputs": [
    {
     "name": "stdout",
     "output_type": "stream",
     "text": [
      "         0      1\n",
      "0     Name  Grade\n",
      "1   Marcia   82.4\n",
      "2   Kadeem   78.2\n",
      "3     Nash   79.3\n",
      "4  Noelani   83.2\n"
     ]
    }
   ],
   "source": [
    "# Reading the file without headers\n",
    "df = pd.read_csv(file_location, header=None)\n",
    "\n",
    "# Displaying the first five lines of the code\n",
    "print(df.head())"
   ]
  },
  {
   "cell_type": "code",
   "execution_count": 18,
   "metadata": {},
   "outputs": [
    {
     "name": "stdout",
     "output_type": "stream",
     "text": [
      "      Name  Grade\n",
      "0   Marcia   82.4\n",
      "1   Kadeem   78.2\n",
      "2     Nash   79.3\n",
      "3  Noelani   83.2\n",
      "4  Noelani   87.4\n"
     ]
    }
   ],
   "source": [
    "# Reading the file with headers\n",
    "df = pd.read_csv(file_location)\n",
    "\n",
    "# Dsiplaying the first five lines of data\n",
    "print(df.head())"
   ]
  }
 ],
 "metadata": {
  "kernelspec": {
   "display_name": "Python 3",
   "language": "python",
   "name": "python3"
  },
  "language_info": {
   "codemirror_mode": {
    "name": "ipython",
    "version": 3
   },
   "file_extension": ".py",
   "mimetype": "text/x-python",
   "name": "python",
   "nbconvert_exporter": "python",
   "pygments_lexer": "ipython3",
   "version": "3.6.5"
  }
 },
 "nbformat": 4,
 "nbformat_minor": 2
}
