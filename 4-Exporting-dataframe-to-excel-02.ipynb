{
 "cells": [
  {
   "cell_type": "code",
   "execution_count": 6,
   "metadata": {},
   "outputs": [],
   "source": [
    "#4-Exporting-dataframe-to-excel-02\n",
    "# Exporting multiple dataframes to excel\n",
    "# We can save different dataframes to differnet sheets, and with one .save() \n",
    "# we will create an excel file with multiple worksheets"
   ]
  },
  {
   "cell_type": "code",
   "execution_count": 7,
   "metadata": {},
   "outputs": [],
   "source": [
    "import os\n",
    "os.chdir(r\"C:\\Users\\Guestuser\\Downloads\")"
   ]
  },
  {
   "cell_type": "code",
   "execution_count": 8,
   "metadata": {},
   "outputs": [],
   "source": [
    "import pandas as pd\n",
    "\n",
    "#8th class data\n",
    "names_class8 = ['Ravi','Geeta','Modi','Kcr']\n",
    "grades_class8 = [99,89,35,45]\n",
    "gradelist_class8=list(zip(names_class8,grades_class8))\n",
    "df_class8=pd.DataFrame(data=gradelist_class8,columns=['Names','Grades'])\n",
    "\n",
    "# 7th class data\n",
    "names_class7 = ['Bob','Jessica','Mary','John','Mel']\n",
    "grades_class7 = [76,95,77,78,99]\n",
    "gradelist_class7 =list(zip(names_class7,grades_class7))\n",
    "df_class7=pd.DataFrame(data=gradelist_class7,columns=['Names','Grades'])\n",
    "\n",
    "writer = pd.ExcelWriter(r\"C:\\Users\\Guestuser\\Downloads\\dataframe2.xlsx\")\n",
    "df_class8.to_excel(writer,sheet_name='Class8')\n",
    "df_class7.to_excel(writer,sheet_name='Class7')\n",
    "writer.save()                        "
   ]
  },
  {
   "cell_type": "code",
   "execution_count": null,
   "metadata": {},
   "outputs": [],
   "source": []
  },
  {
   "cell_type": "code",
   "execution_count": null,
   "metadata": {},
   "outputs": [],
   "source": []
  }
 ],
 "metadata": {
  "kernelspec": {
   "display_name": "Python 3",
   "language": "python",
   "name": "python3"
  },
  "language_info": {
   "codemirror_mode": {
    "name": "ipython",
    "version": 3
   },
   "file_extension": ".py",
   "mimetype": "text/x-python",
   "name": "python",
   "nbconvert_exporter": "python",
   "pygments_lexer": "ipython3",
   "version": "3.6.5"
  }
 },
 "nbformat": 4,
 "nbformat_minor": 2
}
